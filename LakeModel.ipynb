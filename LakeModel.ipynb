{
 "cells": [
  {
   "cell_type": "markdown",
   "source": [
    "The Lake Model as preppared by the EMA Workbench:\n",
    "Kwakkel, Jan H. \"The Exploratory Modeling Workbench: An open source toolkit for exploratory modeling, scenario discovery, and (multi-objective) robust decision making.\" Environmental Modelling & Software 96 (2017): 239-250.\n",
    "\n",
    "Peterson, G.D., Carpenter, S.R. and Brock, W.A. (2003), UNCERTAINTY AND THE MANAGEMENT OF MULTISTATE ECOSYSTEMS: AN APPARENTLY RATIONAL ROUTE TO COLLAPSE. Ecology, 84: 1403-1411. https://doi.org/10.1890/0012-9658(2003)084[1403:UATMOM]2.0.CO;2"
   ],
   "metadata": {
    "collapsed": false,
    "pycharm": {
     "name": "#%% md\n"
    }
   }
  },
  {
   "cell_type": "code",
   "execution_count": 5,
   "outputs": [],
   "source": [
    "import math\n",
    "\n",
    "# more or less default imports when using\n",
    "# the workbench\n",
    "import numpy as np\n",
    "import pandas as pd\n",
    "import seaborn as sns\n",
    "import matplotlib.pyplot as plt\n",
    "\n",
    "from scipy.optimize import brentq"
   ],
   "metadata": {
    "collapsed": false,
    "pycharm": {
     "name": "#%%\n"
    }
   }
  },
  {
   "cell_type": "code",
   "execution_count": 6,
   "outputs": [],
   "source": [
    "\n",
    "def get_antropogenic_release(xt, c1, c2, r1, r2, w1):\n",
    "    \"\"\"\n",
    "\n",
    "    Parameters\n",
    "    ----------\n",
    "    xt : float\n",
    "         pollution in lake at time t\n",
    "    c1 : float\n",
    "         center rbf 1\n",
    "    c2 : float\n",
    "         center rbf 2\n",
    "    r1 : float\n",
    "         ratius rbf 1\n",
    "    r2 : float\n",
    "         ratius rbf 2\n",
    "    w1 : float\n",
    "         weight of rbf 1\n",
    "\n",
    "    Returns\n",
    "    -------\n",
    "    float\n",
    "\n",
    "    note:: w2 = 1 - w1\n",
    "\n",
    "    \"\"\"\n",
    "\n",
    "    rule = w1 * (abs(xt - c1) / r1) ** 3 + (1 - w1) * (abs(xt - c2) / r2) ** 3\n",
    "    at1 = max(rule, 0.01)\n",
    "    at = min(at1, 0.1)\n",
    "\n",
    "    return at\n"
   ],
   "metadata": {
    "collapsed": false,
    "pycharm": {
     "name": "#%%\n"
    }
   }
  },
  {
   "cell_type": "code",
   "execution_count": 7,
   "outputs": [],
   "source": [
    "\n",
    "def lake_model(\n",
    "    b=0.42,\n",
    "    q=2.0,\n",
    "    mean=0.02,\n",
    "    stdev=0.001,\n",
    "    delta=0.98,\n",
    "    alpha=0.4,\n",
    "    nsamples=100,\n",
    "    myears=100,\n",
    "    c1=0.25,\n",
    "    c2=0.25,\n",
    "    r1=0.5,\n",
    "    r2=0.5,\n",
    "    w1=0.5,\n",
    "    seed=None,\n",
    "):\n",
    "    \"\"\"runs the lake model for nsamples stochastic realisation using\n",
    "    specified random seed.\n",
    "\n",
    "    Parameters\n",
    "    ----------\n",
    "    b : float\n",
    "        decay rate for P in lake (0.42 = irreversible)\n",
    "    q : float\n",
    "        recycling exponent\n",
    "    mean : float\n",
    "            mean of natural inflows\n",
    "    stdev : float\n",
    "            standard deviation of natural inflows\n",
    "    delta : float\n",
    "            future utility discount rate\n",
    "    alpha : float\n",
    "            utility from pollution\n",
    "    nsamples : int, optional\n",
    "    myears : int, optional\n",
    "    c1 : float\n",
    "    c2 : float\n",
    "    r1 : float\n",
    "    r2 : float\n",
    "    w1 : float\n",
    "    seed : int, optional\n",
    "           seed for the random number generator\n",
    "\n",
    "    Returns\n",
    "    -------\n",
    "    tuple\n",
    "\n",
    "    \"\"\"\n",
    "    np.random.seed(seed)\n",
    "    Pcrit = brentq(lambda x: x**q / (1 + x**q) - b * x, 0.01, 1.5)\n",
    "\n",
    "    X = np.zeros((myears,))\n",
    "    average_daily_P = np.zeros((myears,))\n",
    "    reliability = 0.0\n",
    "    inertia = 0\n",
    "    utility = 0\n",
    "\n",
    "    for _ in range(nsamples):\n",
    "        X[0] = 0.0\n",
    "        decision = 0.1\n",
    "\n",
    "        decisions = np.zeros(myears)\n",
    "        decisions[0] = decision\n",
    "\n",
    "        natural_inflows = np.random.lognormal(\n",
    "            math.log(mean**2 / math.sqrt(stdev**2 + mean**2)),\n",
    "            math.sqrt(math.log(1.0 + stdev**2 / mean**2)),\n",
    "            size=myears,\n",
    "        )\n",
    "\n",
    "        for t in range(1, myears):\n",
    "\n",
    "            # here we use the decision rule\n",
    "            decision = get_antropogenic_release(X[t - 1], c1, c2, r1, r2, w1)\n",
    "            decisions[t] = decision\n",
    "\n",
    "            X[t] = (\n",
    "                (1 - b) * X[t - 1]\n",
    "                + X[t - 1] ** q / (1 + X[t - 1] ** q)\n",
    "                + decision\n",
    "                + natural_inflows[t - 1]\n",
    "            )\n",
    "            average_daily_P[t] += X[t] / nsamples\n",
    "\n",
    "        reliability += np.sum(X < Pcrit) / (nsamples * myears)\n",
    "        inertia += np.sum(np.absolute(np.diff(decisions) < 0.02)) / (nsamples * myears)\n",
    "        utility += np.sum(alpha * decisions * np.power(delta, np.arange(myears))) / nsamples\n",
    "    max_P = np.max(average_daily_P)\n",
    "    return max_P, utility, inertia, reliability"
   ],
   "metadata": {
    "collapsed": false,
    "pycharm": {
     "name": "#%%\n"
    }
   }
  },
  {
   "cell_type": "code",
   "execution_count": 8,
   "outputs": [],
   "source": [
    "b : 'CWLIntInput' = 0.42\n",
    "q : 'CWLFloatInput' = 2.0\n",
    "mean : 'CWLFloatInput' = 0.02\n",
    "stdev : 'CWLFloatInput' = 0.001\n",
    "delta : 'CWLFloatInput' = 0.98\n",
    "alpha : 'CWLFloatInput' = 0.4\n",
    "nsamples : 'CWLIntInput' = 100\n",
    "myears : 'CWLIntInput' = 100\n",
    "c1 : 'CWLFloatInput' = 0.25\n",
    "c2 : 'CWLFloatInput' = 0.25\n",
    "r1 : 'CWLFloatInput' = 0.5\n",
    "r2 : 'CWLFloatInput' = 0.5\n",
    "w1 : 'CWLFloatInput' = 0.5\n",
    "\n",
    "output_file : 'CWLFilePathOutput' = \"./y.csv\""
   ],
   "metadata": {
    "collapsed": false,
    "pycharm": {
     "name": "#%%\n"
    }
   }
  },
  {
   "cell_type": "code",
   "execution_count": 9,
   "outputs": [],
   "source": [
    "y = lake_model()"
   ],
   "metadata": {
    "collapsed": false,
    "pycharm": {
     "name": "#%%\n"
    }
   }
  },
  {
   "cell_type": "code",
   "execution_count": 10,
   "outputs": [],
   "source": [
    "np.savetxt(output_file,y)"
   ],
   "metadata": {
    "collapsed": false,
    "pycharm": {
     "name": "#%%\n"
    }
   }
  }
 ],
 "metadata": {
  "kernelspec": {
   "display_name": "Python 3",
   "language": "python",
   "name": "python3"
  },
  "language_info": {
   "codemirror_mode": {
    "name": "ipython",
    "version": 2
   },
   "file_extension": ".py",
   "mimetype": "text/x-python",
   "name": "python",
   "nbconvert_exporter": "python",
   "pygments_lexer": "ipython2",
   "version": "2.7.6"
  }
 },
 "nbformat": 4,
 "nbformat_minor": 0
}