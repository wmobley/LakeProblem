{
 "cells": [
  {
   "cell_type": "markdown",
   "source": [
    "The Lake Model as preppared by the EMA Workbench:\n",
    "Kwakkel, Jan H. \"The Exploratory Modeling Workbench: An open source toolkit for exploratory modeling, scenario discovery, and (multi-objective) robust decision making.\" Environmental Modelling & Software 96 (2017): 239-250.\n",
    "\n",
    "Peterson, G.D., Carpenter, S.R. and Brock, W.A. (2003), UNCERTAINTY AND THE MANAGEMENT OF MULTISTATE ECOSYSTEMS: AN APPARENTLY RATIONAL ROUTE TO COLLAPSE. Ecology, 84: 1403-1411. https://doi.org/10.1890/0012-9658(2003)084[1403:UATMOM]2.0.CO;2"
   ],
   "metadata": {
    "collapsed": false,
    "pycharm": {
     "name": "#%% md\n"
    }
   }
  },
  {
   "cell_type": "code",
   "execution_count": 49,
   "outputs": [],
   "source": [
    "\n",
    "import random as rand\n",
    "from scipy.optimize import brentq as root\n",
    "import math\n",
    "import numpy as np"
   ],
   "metadata": {
    "collapsed": false,
    "pycharm": {
     "name": "#%%\n"
    }
   }
  },
  {
   "cell_type": "code",
   "execution_count": 50,
   "outputs": [],
   "source": [
    "\n",
    "\n",
    "\n",
    "# Construct the lake problem\n",
    "def lake_problem(pollution_limit_low,\n",
    "                 pollution_limit_high,\n",
    "         b = 0.42,        # decay rate for P in lake (0.42 = irreversible)\n",
    "         q = 2.0,         # recycling exponent\n",
    "         mean = 0.02,     # mean of natural inflows\n",
    "         stdev = 0.001,   # standard deviation of natural inflows\n",
    "         alpha = 0.4,     # utility from pollution\n",
    "         delta = 0.98,    # future utility discount rate\n",
    "         myears = 150,\n",
    "         nsamples = 100): # monte carlo sampling of natural inflows\n",
    "    pollution_limit = [(rand.random()*pollution_limit_high)+pollution_limit_low  for i in  range(myears)]\n",
    "    Pcrit = root(lambda x: x**q/(1+x**q) - b*x, 0.01, 1.5)\n",
    "    nvars = len(pollution_limit)\n",
    "    X = np.zeros((nvars,))\n",
    "    average_daily_P = np.zeros((nvars,))\n",
    "    print(pollution_limit)\n",
    "    decisions = np.array(pollution_limit)\n",
    "    reliability = 0.0\n",
    "\n",
    "    for _ in range(nsamples):\n",
    "        X[0] = 0.0\n",
    "\n",
    "        natural_inflows = np.random.lognormal(\n",
    "                math.log(mean**2 / math.sqrt(stdev**2 + mean**2)),\n",
    "                math.sqrt(math.log(1.0 + stdev**2 / mean**2)),\n",
    "                size = nvars)\n",
    "\n",
    "        for t in range(1,nvars):\n",
    "            X[t] = (1-b)*X[t-1] + X[t-1]**q/(1+X[t-1]**q) + decisions[t-1] + natural_inflows[t-1]\n",
    "            average_daily_P[t] += X[t]/float(nsamples)\n",
    "\n",
    "        reliability += np.sum(X < Pcrit)/float(nsamples*nvars)\n",
    "\n",
    "    max_P = np.max(average_daily_P)\n",
    "    utility = np.sum(alpha*decisions*np.power(delta,np.arange(nvars)))\n",
    "    inertia = np.sum(np.diff(decisions) > -0.02)/float(nvars-1)\n",
    "\n",
    "    return (max_P, utility, inertia, reliability)"
   ],
   "metadata": {
    "collapsed": false,
    "pycharm": {
     "name": "#%%\n"
    }
   }
  },
  {
   "cell_type": "code",
   "execution_count": 51,
   "outputs": [],
   "source": [
    "b : 'CWLFloatInput' = 0.33\n",
    "q : 'CWLFloatInput' = 2\n",
    "mean : 'CWLFloatInput' = 0.05\n",
    "stdev : 'CWLFloatInput' = 0.004\n",
    "delta : 'CWLFloatInput' = 0.99\n",
    "alpha : 'CWLFloatInput' = 0.41\n",
    "nsamples : 'CWLIntInput' = 150\n",
    "myears : 'CWLIntInput' = 100\n",
    "pollution_limit_low : 'CWLFloatInput'\n",
    "pollution_limit_high : 'CWLFloatInput'\n",
    "\n",
    "output_file : 'CWLFilePathOutput' = \"./y.csv\""
   ],
   "metadata": {
    "collapsed": false,
    "pycharm": {
     "name": "#%%\n"
    }
   }
  },
  {
   "cell_type": "code",
   "execution_count": 52,
   "outputs": [
    {
     "name": "stdout",
     "output_type": "stream",
     "text": [
      "[0.08439728412749858, 0.0992144485077274, 0.09354866429236922, 0.08363531173366975, 0.0174797630334963, 0.030568996846305953, 0.052394676939472896, 0.06214731032413334, 0.0837205089105773, 0.05764784294044333, 0.0473377314841704, 0.06600766658283312, 0.07481942237029758, 0.04443627838497286, 0.032796125005418744, 0.08237369075364848, 0.07833078883009725, 0.013092178978184677, 0.01075721435967101, 0.02734355197318742, 0.07692309799366086, 0.06950999884567831, 0.05686098947851265, 0.02479808626859589, 0.03063540610039586, 0.09472886438563977, 0.07243797757643079, 0.0654318383819108, 0.0006407745121528974, 0.004725985084814955, 0.08191434404088367, 0.05857512193511591, 0.08649163518450964, 0.012400677834266939, 0.02220184017014948, 0.0646282739595629, 0.020603837374080114, 0.06047637854385595, 0.08669014607158256, 0.01819336031881377, 0.017255338853050962, 0.07280012306894028, 0.07783973956443846, 0.05193335905952794, 0.03751224113433815, 0.09517471151009416, 0.08007421933157394, 0.03542186621883001, 0.08315368963982828, 0.09711674174905158, 0.054361139887479405, 0.06276470645585018, 0.017109048295701014, 0.05789450838107174, 0.07789712458968912, 0.016796041450927435, 0.07126289726477396, 0.08845395245445348, 0.024645065189305693, 0.022305512817725005, 0.06962894219543268, 0.09496727077056154, 0.036712143495294884, 0.03870767074880713, 0.03200323843702698, 0.07126308937759941, 0.06726042348368753, 0.07665710814492407, 0.057952741927461804, 0.06197906707511344, 0.06158109996384691, 0.027720017077973582, 0.07584707302220811, 0.03742186977396594, 0.02015251013764313, 0.09629872814093356, 0.04918407861180662, 0.03137624949492387, 0.055535136477344975, 0.08970307189108744, 0.09057016469453838, 0.04869963843336811, 0.053709759822845995, 0.07808547989382453, 0.02471043479502079, 0.04971134998410213, 0.006344939480681189, 0.026879360577866843, 0.0303631722299884, 0.009680802717650195, 0.001219755976938164, 0.06802076621861601, 0.09260026559174118, 0.009779582691483891, 0.0544624294915436, 0.015712685354124678, 0.020630344322524908, 0.06239381849082115, 0.09928976333824778, 0.0969826469796436]\n"
     ]
    }
   ],
   "source": [
    "y = lake_problem(pollution_limit_low=pollution_limit_low,\n",
    "    pollution_limit_high=pollution_limit_high,\n",
    "    b= b,\n",
    "    q=q,\n",
    "    mean=mean,\n",
    "    stdev=stdev,\n",
    "    delta=delta,\n",
    "    alpha=alpha,\n",
    "    myears=myears,\n",
    "    nsamples=nsamples,\n",
    "\n",
    "   )"
   ],
   "metadata": {
    "collapsed": false,
    "pycharm": {
     "name": "#%%\n"
    }
   }
  },
  {
   "cell_type": "code",
   "execution_count": 53,
   "outputs": [],
   "source": [
    "np.savetxt(output_file,y)"
   ],
   "metadata": {
    "collapsed": false,
    "pycharm": {
     "name": "#%%\n"
    }
   }
  }
 ],
 "metadata": {
  "kernelspec": {
   "display_name": "Python 3",
   "language": "python",
   "name": "python3"
  },
  "language_info": {
   "codemirror_mode": {
    "name": "ipython",
    "version": 2
   },
   "file_extension": ".py",
   "mimetype": "text/x-python",
   "name": "python",
   "nbconvert_exporter": "python",
   "pygments_lexer": "ipython2",
   "version": "2.7.6"
  }
 },
 "nbformat": 4,
 "nbformat_minor": 0
}